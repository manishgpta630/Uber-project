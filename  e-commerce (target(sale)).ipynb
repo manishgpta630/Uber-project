{
 "cells": [
  {
   "cell_type": "code",
   "execution_count": 18,
   "id": "214a9dcb-2e5a-470a-9ec6-5a5e55a333f0",
   "metadata": {},
   "outputs": [],
   "source": [
    "import pandas as pd\n",
    "import matplotlib.pyplot as plt\n",
    "import seaborn as sns\n",
    "import numpy as np\n",
    "import mysql.connector \n",
    "db = mysql.connector.connect( host='localhost',\n",
    "                            username='root',\n",
    "                            password = 'manish1234',\n",
    "                            database = 'ecommerce' )\n",
    "cur = db.cursor()\n"
   ]
  },
  {
   "cell_type": "markdown",
   "id": "3e767960-5b50-4ccb-addb-3ef5b318cac0",
   "metadata": {},
   "source": [
    " # List all unique cities where customers are located."
   ]
  },
  {
   "cell_type": "code",
   "execution_count": 3,
   "id": "78e0cdc4-2b6c-4c2b-8c37-aaf48e0e4035",
   "metadata": {},
   "outputs": [
    {
     "data": {
      "text/html": [
       "<div>\n",
       "<style scoped>\n",
       "    .dataframe tbody tr th:only-of-type {\n",
       "        vertical-align: middle;\n",
       "    }\n",
       "\n",
       "    .dataframe tbody tr th {\n",
       "        vertical-align: top;\n",
       "    }\n",
       "\n",
       "    .dataframe thead th {\n",
       "        text-align: right;\n",
       "    }\n",
       "</style>\n",
       "<table border=\"1\" class=\"dataframe\">\n",
       "  <thead>\n",
       "    <tr style=\"text-align: right;\">\n",
       "      <th></th>\n",
       "      <th>0</th>\n",
       "    </tr>\n",
       "  </thead>\n",
       "  <tbody>\n",
       "    <tr>\n",
       "      <th>0</th>\n",
       "      <td>franca</td>\n",
       "    </tr>\n",
       "    <tr>\n",
       "      <th>1</th>\n",
       "      <td>sao bernardo do campo</td>\n",
       "    </tr>\n",
       "    <tr>\n",
       "      <th>2</th>\n",
       "      <td>sao paulo</td>\n",
       "    </tr>\n",
       "    <tr>\n",
       "      <th>3</th>\n",
       "      <td>mogi das cruzes</td>\n",
       "    </tr>\n",
       "    <tr>\n",
       "      <th>4</th>\n",
       "      <td>campinas</td>\n",
       "    </tr>\n",
       "    <tr>\n",
       "      <th>5</th>\n",
       "      <td>jaragua do sul</td>\n",
       "    </tr>\n",
       "    <tr>\n",
       "      <th>6</th>\n",
       "      <td>timoteo</td>\n",
       "    </tr>\n",
       "    <tr>\n",
       "      <th>7</th>\n",
       "      <td>curitiba</td>\n",
       "    </tr>\n",
       "    <tr>\n",
       "      <th>8</th>\n",
       "      <td>belo horizonte</td>\n",
       "    </tr>\n",
       "    <tr>\n",
       "      <th>9</th>\n",
       "      <td>montes claros</td>\n",
       "    </tr>\n",
       "  </tbody>\n",
       "</table>\n",
       "</div>"
      ],
      "text/plain": [
       "                       0\n",
       "0                 franca\n",
       "1  sao bernardo do campo\n",
       "2              sao paulo\n",
       "3        mogi das cruzes\n",
       "4               campinas\n",
       "5         jaragua do sul\n",
       "6                timoteo\n",
       "7               curitiba\n",
       "8         belo horizonte\n",
       "9          montes claros"
      ]
     },
     "execution_count": 3,
     "metadata": {},
     "output_type": "execute_result"
    }
   ],
   "source": [
    "query = \"\"\"select distinct customer_city from customers\"\"\"\n",
    "\n",
    "cur.execute(query)\n",
    "\n",
    "data = cur.fetchall()\n",
    "\n",
    "df = pd.DataFrame(data)\n",
    "df.head(10)\n"
   ]
  },
  {
   "cell_type": "markdown",
   "id": "23b09683-3229-4005-af67-8a86f8155c03",
   "metadata": {},
   "source": [
    "# Count the number of orders placed in 2017."
   ]
  },
  {
   "cell_type": "code",
   "execution_count": 4,
   "id": "b3a480b5-8427-4793-8be2-e2966ab55d25",
   "metadata": {},
   "outputs": [
    {
     "data": {
      "text/plain": [
       "('Total orders placed in 2017 are  ', 180404)"
      ]
     },
     "execution_count": 4,
     "metadata": {},
     "output_type": "execute_result"
    }
   ],
   "source": [
    "query = \"\"\"SELECT COUNT(order_id) FROM orders WHERE YEAR(order_purchase_timestamp) = 2017\"\"\"\n",
    "\n",
    "cur.execute(query)\n",
    "\n",
    "data = cur.fetchall()\n",
    "\n",
    "\"Total orders placed in 2017 are  \",data[0][0]\n"
   ]
  },
  {
   "cell_type": "markdown",
   "id": "8b2e3d98-ff85-48bb-ac7b-33e5f739e489",
   "metadata": {},
   "source": [
    "#  Find the total sales per category."
   ]
  },
  {
   "cell_type": "code",
   "execution_count": 5,
   "id": "ad54fe20-4490-4462-aa94-7dff704277a9",
   "metadata": {},
   "outputs": [
    {
     "data": {
      "text/html": [
       "<div>\n",
       "<style scoped>\n",
       "    .dataframe tbody tr th:only-of-type {\n",
       "        vertical-align: middle;\n",
       "    }\n",
       "\n",
       "    .dataframe tbody tr th {\n",
       "        vertical-align: top;\n",
       "    }\n",
       "\n",
       "    .dataframe thead th {\n",
       "        text-align: right;\n",
       "    }\n",
       "</style>\n",
       "<table border=\"1\" class=\"dataframe\">\n",
       "  <thead>\n",
       "    <tr style=\"text-align: right;\">\n",
       "      <th></th>\n",
       "      <th>category</th>\n",
       "      <th>sales</th>\n",
       "    </tr>\n",
       "  </thead>\n",
       "  <tbody>\n",
       "    <tr>\n",
       "      <th>0</th>\n",
       "      <td>PERFUMERY</td>\n",
       "      <td>13681943.82</td>\n",
       "    </tr>\n",
       "    <tr>\n",
       "      <th>1</th>\n",
       "      <td>FURNITURE DECORATION</td>\n",
       "      <td>38614762.58</td>\n",
       "    </tr>\n",
       "    <tr>\n",
       "      <th>2</th>\n",
       "      <td>TELEPHONY</td>\n",
       "      <td>13145815.37</td>\n",
       "    </tr>\n",
       "    <tr>\n",
       "      <th>3</th>\n",
       "      <td>BED TABLE BATH</td>\n",
       "      <td>46238949.12</td>\n",
       "    </tr>\n",
       "    <tr>\n",
       "      <th>4</th>\n",
       "      <td>AUTOMOTIVE</td>\n",
       "      <td>23011946.94</td>\n",
       "    </tr>\n",
       "    <tr>\n",
       "      <th>...</th>\n",
       "      <td>...</td>\n",
       "      <td>...</td>\n",
       "    </tr>\n",
       "    <tr>\n",
       "      <th>69</th>\n",
       "      <td>CDS MUSIC DVDS</td>\n",
       "      <td>32384.61</td>\n",
       "    </tr>\n",
       "    <tr>\n",
       "      <th>70</th>\n",
       "      <td>LA CUISINE</td>\n",
       "      <td>78665.31</td>\n",
       "    </tr>\n",
       "    <tr>\n",
       "      <th>71</th>\n",
       "      <td>FASHION CHILDREN'S CLOTHING</td>\n",
       "      <td>21213.09</td>\n",
       "    </tr>\n",
       "    <tr>\n",
       "      <th>72</th>\n",
       "      <td>PC GAMER</td>\n",
       "      <td>58709.61</td>\n",
       "    </tr>\n",
       "    <tr>\n",
       "      <th>73</th>\n",
       "      <td>INSURANCE AND SERVICES</td>\n",
       "      <td>8761.77</td>\n",
       "    </tr>\n",
       "  </tbody>\n",
       "</table>\n",
       "<p>74 rows × 2 columns</p>\n",
       "</div>"
      ],
      "text/plain": [
       "                       category        sales\n",
       "0                     PERFUMERY  13681943.82\n",
       "1          FURNITURE DECORATION  38614762.58\n",
       "2                     TELEPHONY  13145815.37\n",
       "3                BED TABLE BATH  46238949.12\n",
       "4                    AUTOMOTIVE  23011946.94\n",
       "..                          ...          ...\n",
       "69               CDS MUSIC DVDS     32384.61\n",
       "70                   LA CUISINE     78665.31\n",
       "71  FASHION CHILDREN'S CLOTHING     21213.09\n",
       "72                     PC GAMER     58709.61\n",
       "73       INSURANCE AND SERVICES      8761.77\n",
       "\n",
       "[74 rows x 2 columns]"
      ]
     },
     "execution_count": 5,
     "metadata": {},
     "output_type": "execute_result"
    }
   ],
   "source": [
    "query = \"\"\"\n",
    "SELECT upper (products.product_category) category, ROUND(SUM(payments.payment_value), 2) AS sales \n",
    "FROM products \n",
    "JOIN order_items ON products.product_id = order_items.product_id \n",
    "JOIN payments ON payments.order_id = order_items.order_id \n",
    "GROUP BY products.product_category\"\"\"\n",
    "\n",
    "cur.execute(query)\n",
    "\n",
    "data = cur.fetchall()\n",
    "\n",
    "df  = pd.DataFrame(data, columns = [\"category\" ,\"sales\"])\n",
    "df\n"
   ]
  },
  {
   "cell_type": "markdown",
   "id": "e07d788e-560a-40f9-8b78-0e6ec60cf883",
   "metadata": {},
   "source": [
    "# Calculate the percentage of orders that were paid in installments"
   ]
  },
  {
   "cell_type": "code",
   "execution_count": 6,
   "id": "d0cbe4d5-c74d-49a1-99dd-dce9ffa93ca9",
   "metadata": {},
   "outputs": [
    {
     "data": {
      "text/plain": [
       "[(397764,)]"
      ]
     },
     "execution_count": 6,
     "metadata": {},
     "output_type": "execute_result"
    }
   ],
   "source": [
    "# Count Total Orders: You can use this SQL query to get the total number of orders:\n",
    "query = \"\"\"SELECT COUNT(*) AS total_orders FROM orders; \"\"\"\n",
    "cur.execute(query)\n",
    "data = cur.fetchall()\n",
    "data"
   ]
  },
  {
   "cell_type": "code",
   "execution_count": 7,
   "id": "1a511ff8-c91f-4537-b819-2e57fe8ca707",
   "metadata": {},
   "outputs": [
    {
     "data": {
      "text/plain": [
       "[(154014,)]"
      ]
     },
     "execution_count": 7,
     "metadata": {},
     "output_type": "execute_result"
    }
   ],
   "source": [
    "# Count Installment Orders: Use this query to find the number of orders paid in installments:\n",
    "query = \"\"\"SELECT COUNT(*) AS installment_orders FROM payments WHERE payment_installments > 1;\n",
    " \"\"\"\n",
    "cur.execute(query)\n",
    "data = cur.fetchall()\n",
    "data"
   ]
  },
  {
   "cell_type": "code",
   "execution_count": 8,
   "id": "70b43a82-c650-4ee1-8e09-03a2810f9f76",
   "metadata": {},
   "outputs": [
    {
     "name": "stdout",
     "output_type": "stream",
     "text": [
      "The percentage of orders that were paid in installments is =  49.41763\n"
     ]
    }
   ],
   "source": [
    "# Calculate the Percentage: Finally, you can calculate the percentage of orders paid in installments using:\n",
    "query = \"\"\"SELECT \n",
    "    (COUNT(CASE WHEN payment_installments > 1 THEN 1 END) * 100.0 / COUNT(*)) AS percentage_installment_orders \n",
    "FROM payments;\n",
    "\n",
    " \"\"\"\n",
    "cur.execute(query)\n",
    "data = cur.fetchall()\n",
    "print(\"The percentage of orders that were paid in installments is = \" ,data[0][0])"
   ]
  },
  {
   "cell_type": "code",
   "execution_count": 9,
   "id": "340f7d17-f80b-4c74-b57f-9143c16029e2",
   "metadata": {},
   "outputs": [],
   "source": [
    "#  Explanation:\n",
    "# COUNT(*) gives you the total number of orders.\n",
    "#CASE WHEN counts only those orders where payments were made in installments.\n",
    "# (installment orders / total orders) * 100 calculates the percentage."
   ]
  },
  {
   "cell_type": "markdown",
   "id": "19766872-3e6b-4887-98cd-abee643db7ac",
   "metadata": {},
   "source": [
    "# Count the number of customers from each state"
   ]
  },
  {
   "cell_type": "code",
   "execution_count": 10,
   "id": "ad4ef887-2cf8-466d-81a9-801c25357f67",
   "metadata": {},
   "outputs": [
    {
     "data": {
      "text/html": [
       "<div>\n",
       "<style scoped>\n",
       "    .dataframe tbody tr th:only-of-type {\n",
       "        vertical-align: middle;\n",
       "    }\n",
       "\n",
       "    .dataframe tbody tr th {\n",
       "        vertical-align: top;\n",
       "    }\n",
       "\n",
       "    .dataframe thead th {\n",
       "        text-align: right;\n",
       "    }\n",
       "</style>\n",
       "<table border=\"1\" class=\"dataframe\">\n",
       "  <thead>\n",
       "    <tr style=\"text-align: right;\">\n",
       "      <th></th>\n",
       "      <th>0</th>\n",
       "      <th>1</th>\n",
       "    </tr>\n",
       "  </thead>\n",
       "  <tbody>\n",
       "    <tr>\n",
       "      <th>0</th>\n",
       "      <td>SP</td>\n",
       "      <td>250476</td>\n",
       "    </tr>\n",
       "    <tr>\n",
       "      <th>1</th>\n",
       "      <td>SC</td>\n",
       "      <td>21822</td>\n",
       "    </tr>\n",
       "    <tr>\n",
       "      <th>2</th>\n",
       "      <td>MG</td>\n",
       "      <td>69810</td>\n",
       "    </tr>\n",
       "    <tr>\n",
       "      <th>3</th>\n",
       "      <td>PR</td>\n",
       "      <td>30270</td>\n",
       "    </tr>\n",
       "    <tr>\n",
       "      <th>4</th>\n",
       "      <td>RJ</td>\n",
       "      <td>77112</td>\n",
       "    </tr>\n",
       "    <tr>\n",
       "      <th>5</th>\n",
       "      <td>RS</td>\n",
       "      <td>32796</td>\n",
       "    </tr>\n",
       "    <tr>\n",
       "      <th>6</th>\n",
       "      <td>PA</td>\n",
       "      <td>5850</td>\n",
       "    </tr>\n",
       "    <tr>\n",
       "      <th>7</th>\n",
       "      <td>GO</td>\n",
       "      <td>12120</td>\n",
       "    </tr>\n",
       "    <tr>\n",
       "      <th>8</th>\n",
       "      <td>ES</td>\n",
       "      <td>12198</td>\n",
       "    </tr>\n",
       "    <tr>\n",
       "      <th>9</th>\n",
       "      <td>BA</td>\n",
       "      <td>20280</td>\n",
       "    </tr>\n",
       "  </tbody>\n",
       "</table>\n",
       "</div>"
      ],
      "text/plain": [
       "    0       1\n",
       "0  SP  250476\n",
       "1  SC   21822\n",
       "2  MG   69810\n",
       "3  PR   30270\n",
       "4  RJ   77112\n",
       "5  RS   32796\n",
       "6  PA    5850\n",
       "7  GO   12120\n",
       "8  ES   12198\n",
       "9  BA   20280"
      ]
     },
     "execution_count": 10,
     "metadata": {},
     "output_type": "execute_result"
    }
   ],
   "source": [
    "query = \"\"\"SELECT customer_state, COUNT(customer_id) \n",
    "FROM customers \n",
    "GROUP BY customer_state;\n",
    " \"\"\"\n",
    "cur.execute(query)\n",
    "data = cur.fetchall()\n",
    "df = pd.DataFrame(data)\n",
    "df.head(10)\n"
   ]
  },
  {
   "cell_type": "code",
   "execution_count": 11,
   "id": "c15ff5f1-d441-492a-a1a5-8c68796a4c1a",
   "metadata": {},
   "outputs": [
    {
     "data": {
      "image/png": "[encoded data removed]",
      "text/plain": [
       "<Figure size 640x480 with 1 Axes>"
      ]
     },
     "metadata": {},
     "output_type": "display_data"
    }
   ],
   "source": [
    "query = \"\"\"SELECT customer_state, COUNT(customer_id) \n",
    "FROM customers \n",
    "GROUP BY customer_state;\"\"\"\n",
    "cur.execute(query)\n",
    "data = cur.fetchall()\n",
    "\n",
    "# Create DataFrame with the correct column names\n",
    "df = pd.DataFrame(data, columns=[\"state\", \"customers_count\"])# Correct column names\n",
    "plt.bar(df[\"state\"], df[\"customers_count\"])\n",
    "plt.xticks(rotation = 90)\n",
    "plt.show()                  "
   ]
  },
  {
   "cell_type": "code",
   "execution_count": 12,
   "id": "54e2e5be-d900-4231-802c-afed5a3a2192",
   "metadata": {
    "scrolled": true
   },
   "outputs": [
    {
     "data": {
      "image/png": "[encoded data removed]",
      "text/plain": [
       "<Figure size 900x400 with 1 Axes>"
      ]
     },
     "metadata": {},
     "output_type": "display_data"
    }
   ],
   "source": [
    "df = df.sort_values(by=\"customers_count\", ascending=False)\n",
    "\n",
    "# Plotting the bar chart\n",
    "plt.figure(figsize=(9, 4))  # Optional: Adjust the figure size for better visibility\n",
    "plt.bar(df[\"state\"], df[\"customers_count\"])\n",
    "plt.xlabel(\"State\")\n",
    "plt.ylabel(\"Number of Customers\")\n",
    "plt.title(\"Number of Customers by State\")\n",
    "plt.xticks(rotation=90)  # Rotate x labels for better visibility\n",
    "plt.tight_layout()  # Adjust layout to prevent clipping\n",
    "plt.show()"
   ]
  },
  {
   "cell_type": "code",
   "execution_count": 13,
   "id": "dcf63aa1-ec6a-409d-9916-816a2864f6f1",
   "metadata": {},
   "outputs": [
    {
     "name": "stdout",
     "output_type": "stream",
     "text": [
      "Total unique states: 27\n"
     ]
    }
   ],
   "source": [
    "# number of satet in this data\n",
    "query = \"\"\"SELECT COUNT(DISTINCT customer_state) AS total_states \n",
    "FROM customers;\"\"\"\n",
    "\n",
    "cur.execute(query)\n",
    "data = cur.fetchone()  # Use fetchone() since we expect a single value\n",
    "\n",
    "# Access the total number of states\n",
    "total_states = data[0]  # The first (and only) element\n",
    "print(\"Total unique states:\", total_states)\n"
   ]
  },
  {
   "cell_type": "markdown",
   "id": "5e04edc5-01b8-498a-afd3-c50c9d3bac28",
   "metadata": {},
   "source": [
    "#  Calculate the number of orders per month in 2018."
   ]
  },
  {
   "cell_type": "code",
   "execution_count": 14,
   "id": "71e8a7a6-a8e0-45fc-9b46-5c55eb060b8e",
   "metadata": {},
   "outputs": [
    {
     "data": {
      "image/png": "[encoded data removed]",
      "text/plain": [
       "<Figure size 640x480 with 1 Axes>"
      ]
     },
     "metadata": {},
     "output_type": "display_data"
    }
   ],
   "source": [
    "query = \"\"\"\n",
    "    SELECT \n",
    "        MONTH(order_purchase_timestamp) AS month,\n",
    "        COUNT(order_id) AS order_count \n",
    "    FROM \n",
    "        orders \n",
    "    WHERE \n",
    "        YEAR(order_purchase_timestamp) = 2018 \n",
    "    GROUP BY \n",
    "        MONTH(order_purchase_timestamp) \n",
    "    ORDER BY \n",
    "        MONTH(order_purchase_timestamp);\n",
    "\"\"\"\n",
    "cur.execute(query)\n",
    "\n",
    "# Fetch all the results\n",
    "data = cur.fetchall()\n",
    "df = pd.DataFrame(data,columns = [\"months\" , \"order_count\"])\n",
    "df.head(12)\n",
    "o = ['1','2','3','4','5','6','7','8','9','10']\n",
    "sns.barplot(x = df[\"months\"],y = df[\"order_count\"],data = df , order = o , hue = df[\"months\"], palette = \"viridis\")\n",
    "plt.xticks (rotation= 90)\n",
    "plt.show()"
   ]
  },
  {
   "cell_type": "markdown",
   "id": "a56a55be-feb6-4623-8d27-03276e6dbb93",
   "metadata": {},
   "source": [
    "#  Find the average number of products per order, grouped by customer city."
   ]
  },
  {
   "cell_type": "code",
   "execution_count": 15,
   "id": "c5953310-1a38-44a1-9aa3-c49c1d81fa11",
   "metadata": {},
   "outputs": [
    {
     "data": {
      "text/html": [
       "<div>\n",
       "<style scoped>\n",
       "    .dataframe tbody tr th:only-of-type {\n",
       "        vertical-align: middle;\n",
       "    }\n",
       "\n",
       "    .dataframe tbody tr th {\n",
       "        vertical-align: top;\n",
       "    }\n",
       "\n",
       "    .dataframe thead th {\n",
       "        text-align: right;\n",
       "    }\n",
       "</style>\n",
       "<table border=\"1\" class=\"dataframe\">\n",
       "  <thead>\n",
       "    <tr style=\"text-align: right;\">\n",
       "      <th></th>\n",
       "      <th>customer_city</th>\n",
       "      <th>avarage product/order</th>\n",
       "    </tr>\n",
       "  </thead>\n",
       "  <tbody>\n",
       "    <tr>\n",
       "      <th>0</th>\n",
       "      <td>treze tilias</td>\n",
       "      <td>15.2727</td>\n",
       "    </tr>\n",
       "    <tr>\n",
       "      <th>1</th>\n",
       "      <td>indaial</td>\n",
       "      <td>13.3846</td>\n",
       "    </tr>\n",
       "    <tr>\n",
       "      <th>2</th>\n",
       "      <td>sao jose dos campos</td>\n",
       "      <td>13.6618</td>\n",
       "    </tr>\n",
       "    <tr>\n",
       "      <th>3</th>\n",
       "      <td>sao paulo</td>\n",
       "      <td>13.8746</td>\n",
       "    </tr>\n",
       "    <tr>\n",
       "      <th>4</th>\n",
       "      <td>porto alegre</td>\n",
       "      <td>14.0991</td>\n",
       "    </tr>\n",
       "    <tr>\n",
       "      <th>5</th>\n",
       "      <td>santos</td>\n",
       "      <td>13.9377</td>\n",
       "    </tr>\n",
       "    <tr>\n",
       "      <th>6</th>\n",
       "      <td>sao francisco do sul</td>\n",
       "      <td>14.8235</td>\n",
       "    </tr>\n",
       "    <tr>\n",
       "      <th>7</th>\n",
       "      <td>sao vicente</td>\n",
       "      <td>13.0909</td>\n",
       "    </tr>\n",
       "    <tr>\n",
       "      <th>8</th>\n",
       "      <td>joinville</td>\n",
       "      <td>13.2319</td>\n",
       "    </tr>\n",
       "    <tr>\n",
       "      <th>9</th>\n",
       "      <td>sao vendelino</td>\n",
       "      <td>12.0000</td>\n",
       "    </tr>\n",
       "    <tr>\n",
       "      <th>10</th>\n",
       "      <td>belo horizonte</td>\n",
       "      <td>13.7193</td>\n",
       "    </tr>\n",
       "  </tbody>\n",
       "</table>\n",
       "</div>"
      ],
      "text/plain": [
       "           customer_city  avarage product/order\n",
       "0           treze tilias                15.2727\n",
       "1                indaial                13.3846\n",
       "2    sao jose dos campos                13.6618\n",
       "3              sao paulo                13.8746\n",
       "4           porto alegre                14.0991\n",
       "5                 santos                13.9377\n",
       "6   sao francisco do sul                14.8235\n",
       "7            sao vicente                13.0909\n",
       "8              joinville                13.2319\n",
       "9          sao vendelino                12.0000\n",
       "10        belo horizonte                13.7193"
      ]
     },
     "execution_count": 15,
     "metadata": {},
     "output_type": "execute_result"
    }
   ],
   "source": [
    "query = \"\"\"\n",
    "WITH count_per_order AS (\n",
    "    SELECT orders.order_id, orders.customer_id, COUNT(order_items.order_id) AS oc\n",
    "    FROM orders\n",
    "    JOIN order_items ON orders.order_id = order_items.order_id\n",
    "    GROUP BY orders.order_id, orders.customer_id\n",
    ")\n",
    "SELECT customers.customer_city, AVG(count_per_order.oc) AS average_items\n",
    "FROM customers\n",
    "JOIN count_per_order ON customers.customer_id = count_per_order.customer_id\n",
    "GROUP BY customers.customer_city  ;\n",
    "\"\"\"\n",
    "\n",
    "# Query execute karein\n",
    "cur.execute(query)\n",
    "\n",
    "# Results ko fetch karein\n",
    "data = cur.fetchall()\n",
    "df = pd.DataFrame(data,columns = [\"customer_city\" , \" avarage product/order\"])\n",
    "df.head(11)"
   ]
  },
  {
   "cell_type": "markdown",
   "id": "1d308318-2cc2-4fce-a421-1341c93ec089",
   "metadata": {},
   "source": [
    "# Calculate the percentage of total revenue contributed by each product category."
   ]
  },
  {
   "cell_type": "code",
   "execution_count": 16,
   "id": "4c806aa8-c8d3-4ce4-b487-349263cd65fa",
   "metadata": {},
   "outputs": [
    {
     "data": {
      "text/html": [
       "<div>\n",
       "<style scoped>\n",
       "    .dataframe tbody tr th:only-of-type {\n",
       "        vertical-align: middle;\n",
       "    }\n",
       "\n",
       "    .dataframe tbody tr th {\n",
       "        vertical-align: top;\n",
       "    }\n",
       "\n",
       "    .dataframe thead th {\n",
       "        text-align: right;\n",
       "    }\n",
       "</style>\n",
       "<table border=\"1\" class=\"dataframe\">\n",
       "  <thead>\n",
       "    <tr style=\"text-align: right;\">\n",
       "      <th></th>\n",
       "      <th>Category</th>\n",
       "      <th>percentage distribution</th>\n",
       "    </tr>\n",
       "  </thead>\n",
       "  <tbody>\n",
       "    <tr>\n",
       "      <th>0</th>\n",
       "      <td>BED TABLE BATH</td>\n",
       "      <td>96.28</td>\n",
       "    </tr>\n",
       "    <tr>\n",
       "      <th>1</th>\n",
       "      <td>HEALTH BEAUTY</td>\n",
       "      <td>93.18</td>\n",
       "    </tr>\n",
       "    <tr>\n",
       "      <th>2</th>\n",
       "      <td>COMPUTER ACCESSORIES</td>\n",
       "      <td>89.13</td>\n",
       "    </tr>\n",
       "    <tr>\n",
       "      <th>3</th>\n",
       "      <td>FURNITURE DECORATION</td>\n",
       "      <td>80.40</td>\n",
       "    </tr>\n",
       "    <tr>\n",
       "      <th>4</th>\n",
       "      <td>WATCHES PRESENT</td>\n",
       "      <td>80.35</td>\n",
       "    </tr>\n",
       "  </tbody>\n",
       "</table>\n",
       "</div>"
      ],
      "text/plain": [
       "               Category  percentage distribution\n",
       "0        BED TABLE BATH                    96.28\n",
       "1         HEALTH BEAUTY                    93.18\n",
       "2  COMPUTER ACCESSORIES                    89.13\n",
       "3  FURNITURE DECORATION                    80.40\n",
       "4       WATCHES PRESENT                    80.35"
      ]
     },
     "execution_count": 16,
     "metadata": {},
     "output_type": "execute_result"
    }
   ],
   "source": [
    "query = \"\"\"select upper(products.product_category) category, \n",
    "round((sum(payments.payment_value)/(select sum(payment_value) from payments))*100,2) sales_percentage\n",
    "from products join order_items \n",
    "on products.product_id = order_items.product_id\n",
    "join payments \n",
    "on payments.order_id = order_items.order_id\n",
    "group by category order by sales_percentage desc\"\"\"\n",
    "\n",
    "\n",
    "cur.execute(query)\n",
    "data = cur.fetchall()\n",
    "df = pd.DataFrame(data,columns = [\"Category\", \"percentage distribution\"])\n",
    "df.head()"
   ]
  },
  {
   "cell_type": "markdown",
   "id": "86ab3f7e-f68b-4cc6-9188-b97f2e05be4b",
   "metadata": {},
   "source": [
    "# Identify the correlation between product price and the number of times a product has been purchased."
   ]
  },
  {
   "cell_type": "code",
   "execution_count": 19,
   "id": "1757cd3d-4e9c-40aa-876f-a13ecaa9283e",
   "metadata": {},
   "outputs": [
    {
     "name": "stdout",
     "output_type": "stream",
     "text": [
      "the correlation is -0.10631514167157556\n"
     ]
    }
   ],
   "source": [
    "cur = db.cursor()\n",
    "query = \"\"\"select products.product_category, \n",
    "count(order_items.product_id),\n",
    "round(avg(order_items.price),2)\n",
    "from products join order_items\n",
    "on products.product_id = order_items.product_id\n",
    "group by products.product_category\"\"\"\n",
    "\n",
    "cur.execute(query)\n",
    "data = cur.fetchall()\n",
    "df = pd.DataFrame(data,columns = [\"Category\", \"order_count\",\"price\"])\n",
    "\n",
    "arr1 = df[\"order_count\"]\n",
    "arr2 = df[\"price\"]\n",
    "\n",
    "a = np.corrcoef([arr1,arr2])\n",
    "print(\"the correlation is\", a[0][-1])"
   ]
  },
  {
   "cell_type": "markdown",
   "id": "5965fe1c-37bb-4a59-9bcf-612b57963b50",
   "metadata": {},
   "source": [
    "# Calculate the total revenue generated by each seller, and rank them by revenue."
   ]
  },
  {
   "cell_type": "code",
   "execution_count": 22,
   "id": "59eacae2-bdb2-439c-8707-79c51aeaa8a2",
   "metadata": {},
   "outputs": [
    {
     "data": {
      "image/png": "[encoded data removed]",
      "text/plain": [
       "<Figure size 640x480 with 1 Axes>"
      ]
     },
     "metadata": {},
     "output_type": "display_data"
    }
   ],
   "source": [
    "query = \"\"\" select *, dense_rank() over(order by revenue desc) as rn from\n",
    "(select order_items.seller_id, sum(payments.payment_value)\n",
    "revenue from order_items join payments\n",
    "on order_items.order_id = payments.order_id\n",
    "group by order_items.seller_id) as a \"\"\"\n",
    "\n",
    "cur.execute(query)\n",
    "data = cur.fetchall()\n",
    "df = pd.DataFrame(data, columns = [\"seller_id\", \"revenue\", \"rank\"])\n",
    "df = df.head()\n",
    "sns.barplot(x = \"seller_id\", y = \"revenue\", data = df)\n",
    "plt.xticks(rotation = 90)\n",
    "plt.show()"
   ]
  },
  {
   "cell_type": "markdown",
   "id": "363061f5-2926-4def-911a-f33a324c906b",
   "metadata": {},
   "source": [
    "# Calculate the moving average of order values for each customer over their order history."
   ]
  },
  {
   "cell_type": "code",
   "execution_count": 23,
   "id": "b0fb9eeb-8b73-4bc6-bc84-f7f28258a044",
   "metadata": {},
   "outputs": [
    {
     "data": {
      "text/html": [
       "<div>\n",
       "<style scoped>\n",
       "    .dataframe tbody tr th:only-of-type {\n",
       "        vertical-align: middle;\n",
       "    }\n",
       "\n",
       "    .dataframe tbody tr th {\n",
       "        vertical-align: top;\n",
       "    }\n",
       "\n",
       "    .dataframe thead th {\n",
       "        text-align: right;\n",
       "    }\n",
       "</style>\n",
       "<table border=\"1\" class=\"dataframe\">\n",
       "  <thead>\n",
       "    <tr style=\"text-align: right;\">\n",
       "      <th></th>\n",
       "      <th>0</th>\n",
       "      <th>1</th>\n",
       "      <th>2</th>\n",
       "      <th>3</th>\n",
       "    </tr>\n",
       "  </thead>\n",
       "  <tbody>\n",
       "    <tr>\n",
       "      <th>0</th>\n",
       "      <td>00012a2ce6f8dcda20d059ce98491703</td>\n",
       "      <td>2017-11-14 16:08:26</td>\n",
       "      <td>114.74</td>\n",
       "      <td>114.739998</td>\n",
       "    </tr>\n",
       "    <tr>\n",
       "      <th>1</th>\n",
       "      <td>00012a2ce6f8dcda20d059ce98491703</td>\n",
       "      <td>2017-11-14 16:08:26</td>\n",
       "      <td>114.74</td>\n",
       "      <td>114.739998</td>\n",
       "    </tr>\n",
       "    <tr>\n",
       "      <th>2</th>\n",
       "      <td>00012a2ce6f8dcda20d059ce98491703</td>\n",
       "      <td>2017-11-14 16:08:26</td>\n",
       "      <td>114.74</td>\n",
       "      <td>114.739998</td>\n",
       "    </tr>\n",
       "    <tr>\n",
       "      <th>3</th>\n",
       "      <td>00012a2ce6f8dcda20d059ce98491703</td>\n",
       "      <td>2017-11-14 16:08:26</td>\n",
       "      <td>114.74</td>\n",
       "      <td>114.739998</td>\n",
       "    </tr>\n",
       "    <tr>\n",
       "      <th>4</th>\n",
       "      <td>00012a2ce6f8dcda20d059ce98491703</td>\n",
       "      <td>2017-11-14 16:08:26</td>\n",
       "      <td>114.74</td>\n",
       "      <td>114.739998</td>\n",
       "    </tr>\n",
       "    <tr>\n",
       "      <th>...</th>\n",
       "      <td>...</td>\n",
       "      <td>...</td>\n",
       "      <td>...</td>\n",
       "      <td>...</td>\n",
       "    </tr>\n",
       "    <tr>\n",
       "      <th>1246627</th>\n",
       "      <td>ffffe8b65bbe3087b653a978c870db99</td>\n",
       "      <td>2017-09-29 14:07:03</td>\n",
       "      <td>18.37</td>\n",
       "      <td>18.370001</td>\n",
       "    </tr>\n",
       "    <tr>\n",
       "      <th>1246628</th>\n",
       "      <td>ffffe8b65bbe3087b653a978c870db99</td>\n",
       "      <td>2017-09-29 14:07:03</td>\n",
       "      <td>18.37</td>\n",
       "      <td>18.370001</td>\n",
       "    </tr>\n",
       "    <tr>\n",
       "      <th>1246629</th>\n",
       "      <td>ffffe8b65bbe3087b653a978c870db99</td>\n",
       "      <td>2017-09-29 14:07:03</td>\n",
       "      <td>18.37</td>\n",
       "      <td>18.370001</td>\n",
       "    </tr>\n",
       "    <tr>\n",
       "      <th>1246630</th>\n",
       "      <td>ffffe8b65bbe3087b653a978c870db99</td>\n",
       "      <td>2017-09-29 14:07:03</td>\n",
       "      <td>18.37</td>\n",
       "      <td>18.370001</td>\n",
       "    </tr>\n",
       "    <tr>\n",
       "      <th>1246631</th>\n",
       "      <td>ffffe8b65bbe3087b653a978c870db99</td>\n",
       "      <td>2017-09-29 14:07:03</td>\n",
       "      <td>18.37</td>\n",
       "      <td>18.370001</td>\n",
       "    </tr>\n",
       "  </tbody>\n",
       "</table>\n",
       "<p>1246632 rows × 4 columns</p>\n",
       "</div>"
      ],
      "text/plain": [
       "                                        0                    1       2  \\\n",
       "0        00012a2ce6f8dcda20d059ce98491703  2017-11-14 16:08:26  114.74   \n",
       "1        00012a2ce6f8dcda20d059ce98491703  2017-11-14 16:08:26  114.74   \n",
       "2        00012a2ce6f8dcda20d059ce98491703  2017-11-14 16:08:26  114.74   \n",
       "3        00012a2ce6f8dcda20d059ce98491703  2017-11-14 16:08:26  114.74   \n",
       "4        00012a2ce6f8dcda20d059ce98491703  2017-11-14 16:08:26  114.74   \n",
       "...                                   ...                  ...     ...   \n",
       "1246627  ffffe8b65bbe3087b653a978c870db99  2017-09-29 14:07:03   18.37   \n",
       "1246628  ffffe8b65bbe3087b653a978c870db99  2017-09-29 14:07:03   18.37   \n",
       "1246629  ffffe8b65bbe3087b653a978c870db99  2017-09-29 14:07:03   18.37   \n",
       "1246630  ffffe8b65bbe3087b653a978c870db99  2017-09-29 14:07:03   18.37   \n",
       "1246631  ffffe8b65bbe3087b653a978c870db99  2017-09-29 14:07:03   18.37   \n",
       "\n",
       "                  3  \n",
       "0        114.739998  \n",
       "1        114.739998  \n",
       "2        114.739998  \n",
       "3        114.739998  \n",
       "4        114.739998  \n",
       "...             ...  \n",
       "1246627   18.370001  \n",
       "1246628   18.370001  \n",
       "1246629   18.370001  \n",
       "1246630   18.370001  \n",
       "1246631   18.370001  \n",
       "\n",
       "[1246632 rows x 4 columns]"
      ]
     },
     "execution_count": 23,
     "metadata": {},
     "output_type": "execute_result"
    }
   ],
   "source": [
    "query = \"\"\"select customer_id, order_purchase_timestamp, payment,\n",
    "avg(payment) over(partition by customer_id order by order_purchase_timestamp\n",
    "rows between 2 preceding and current row) as mov_avg\n",
    "from\n",
    "(select orders.customer_id, orders.order_purchase_timestamp, \n",
    "payments.payment_value as payment\n",
    "from payments join orders\n",
    "on payments.order_id = orders.order_id) as a\"\"\"\n",
    "cur.execute(query)\n",
    "data = cur.fetchall()\n",
    "df = pd.DataFrame(data)\n",
    "df"
   ]
  },
  {
   "cell_type": "markdown",
   "id": "a0cc55f5-f911-48d5-b901-53af3fa6319b",
   "metadata": {},
   "source": [
    "# Calculate the cumulative sales per month for each year."
   ]
  },
  {
   "cell_type": "code",
   "execution_count": 24,
   "id": "3a2d7418-e044-47df-9a5a-ebed2540c5ca",
   "metadata": {},
   "outputs": [
    {
     "data": {
      "text/html": [
       "<div>\n",
       "<style scoped>\n",
       "    .dataframe tbody tr th:only-of-type {\n",
       "        vertical-align: middle;\n",
       "    }\n",
       "\n",
       "    .dataframe tbody tr th {\n",
       "        vertical-align: top;\n",
       "    }\n",
       "\n",
       "    .dataframe thead th {\n",
       "        text-align: right;\n",
       "    }\n",
       "</style>\n",
       "<table border=\"1\" class=\"dataframe\">\n",
       "  <thead>\n",
       "    <tr style=\"text-align: right;\">\n",
       "      <th></th>\n",
       "      <th>0</th>\n",
       "      <th>1</th>\n",
       "      <th>2</th>\n",
       "      <th>3</th>\n",
       "    </tr>\n",
       "  </thead>\n",
       "  <tbody>\n",
       "    <tr>\n",
       "      <th>0</th>\n",
       "      <td>2016</td>\n",
       "      <td>9</td>\n",
       "      <td>3026.88</td>\n",
       "      <td>3.026880e+03</td>\n",
       "    </tr>\n",
       "    <tr>\n",
       "      <th>1</th>\n",
       "      <td>2016</td>\n",
       "      <td>10</td>\n",
       "      <td>709085.76</td>\n",
       "      <td>7.121126e+05</td>\n",
       "    </tr>\n",
       "    <tr>\n",
       "      <th>2</th>\n",
       "      <td>2016</td>\n",
       "      <td>12</td>\n",
       "      <td>235.44</td>\n",
       "      <td>7.123481e+05</td>\n",
       "    </tr>\n",
       "    <tr>\n",
       "      <th>3</th>\n",
       "      <td>2017</td>\n",
       "      <td>1</td>\n",
       "      <td>1661856.48</td>\n",
       "      <td>2.374205e+06</td>\n",
       "    </tr>\n",
       "    <tr>\n",
       "      <th>4</th>\n",
       "      <td>2017</td>\n",
       "      <td>2</td>\n",
       "      <td>3502896.11</td>\n",
       "      <td>5.877101e+06</td>\n",
       "    </tr>\n",
       "    <tr>\n",
       "      <th>5</th>\n",
       "      <td>2017</td>\n",
       "      <td>3</td>\n",
       "      <td>5398363.19</td>\n",
       "      <td>1.127546e+07</td>\n",
       "    </tr>\n",
       "    <tr>\n",
       "      <th>6</th>\n",
       "      <td>2017</td>\n",
       "      <td>4</td>\n",
       "      <td>5013456.35</td>\n",
       "      <td>1.628892e+07</td>\n",
       "    </tr>\n",
       "    <tr>\n",
       "      <th>7</th>\n",
       "      <td>2017</td>\n",
       "      <td>5</td>\n",
       "      <td>7115025.84</td>\n",
       "      <td>2.340395e+07</td>\n",
       "    </tr>\n",
       "    <tr>\n",
       "      <th>8</th>\n",
       "      <td>2017</td>\n",
       "      <td>6</td>\n",
       "      <td>6135316.56</td>\n",
       "      <td>2.953926e+07</td>\n",
       "    </tr>\n",
       "    <tr>\n",
       "      <th>9</th>\n",
       "      <td>2017</td>\n",
       "      <td>7</td>\n",
       "      <td>7108595.03</td>\n",
       "      <td>3.664786e+07</td>\n",
       "    </tr>\n",
       "    <tr>\n",
       "      <th>10</th>\n",
       "      <td>2017</td>\n",
       "      <td>8</td>\n",
       "      <td>8092755.84</td>\n",
       "      <td>4.474061e+07</td>\n",
       "    </tr>\n",
       "    <tr>\n",
       "      <th>11</th>\n",
       "      <td>2017</td>\n",
       "      <td>9</td>\n",
       "      <td>8733149.40</td>\n",
       "      <td>5.347376e+07</td>\n",
       "    </tr>\n",
       "    <tr>\n",
       "      <th>12</th>\n",
       "      <td>2017</td>\n",
       "      <td>10</td>\n",
       "      <td>9356134.56</td>\n",
       "      <td>6.282990e+07</td>\n",
       "    </tr>\n",
       "    <tr>\n",
       "      <th>13</th>\n",
       "      <td>2017</td>\n",
       "      <td>11</td>\n",
       "      <td>14338593.60</td>\n",
       "      <td>7.716849e+07</td>\n",
       "    </tr>\n",
       "    <tr>\n",
       "      <th>14</th>\n",
       "      <td>2017</td>\n",
       "      <td>12</td>\n",
       "      <td>10540817.76</td>\n",
       "      <td>8.770931e+07</td>\n",
       "    </tr>\n",
       "    <tr>\n",
       "      <th>15</th>\n",
       "      <td>2018</td>\n",
       "      <td>1</td>\n",
       "      <td>13380050.15</td>\n",
       "      <td>1.010894e+08</td>\n",
       "    </tr>\n",
       "    <tr>\n",
       "      <th>16</th>\n",
       "      <td>2018</td>\n",
       "      <td>2</td>\n",
       "      <td>11909560.08</td>\n",
       "      <td>1.129989e+08</td>\n",
       "    </tr>\n",
       "    <tr>\n",
       "      <th>17</th>\n",
       "      <td>2018</td>\n",
       "      <td>3</td>\n",
       "      <td>13915825.44</td>\n",
       "      <td>1.269147e+08</td>\n",
       "    </tr>\n",
       "    <tr>\n",
       "      <th>18</th>\n",
       "      <td>2018</td>\n",
       "      <td>4</td>\n",
       "      <td>13929425.77</td>\n",
       "      <td>1.408442e+08</td>\n",
       "    </tr>\n",
       "    <tr>\n",
       "      <th>19</th>\n",
       "      <td>2018</td>\n",
       "      <td>5</td>\n",
       "      <td>13847785.81</td>\n",
       "      <td>1.546920e+08</td>\n",
       "    </tr>\n",
       "    <tr>\n",
       "      <th>20</th>\n",
       "      <td>2018</td>\n",
       "      <td>6</td>\n",
       "      <td>12286566.01</td>\n",
       "      <td>1.669785e+08</td>\n",
       "    </tr>\n",
       "    <tr>\n",
       "      <th>21</th>\n",
       "      <td>2018</td>\n",
       "      <td>7</td>\n",
       "      <td>12798488.99</td>\n",
       "      <td>1.797770e+08</td>\n",
       "    </tr>\n",
       "    <tr>\n",
       "      <th>22</th>\n",
       "      <td>2018</td>\n",
       "      <td>8</td>\n",
       "      <td>12269103.86</td>\n",
       "      <td>1.920461e+08</td>\n",
       "    </tr>\n",
       "    <tr>\n",
       "      <th>23</th>\n",
       "      <td>2018</td>\n",
       "      <td>9</td>\n",
       "      <td>53274.48</td>\n",
       "      <td>1.920994e+08</td>\n",
       "    </tr>\n",
       "    <tr>\n",
       "      <th>24</th>\n",
       "      <td>2018</td>\n",
       "      <td>10</td>\n",
       "      <td>7076.04</td>\n",
       "      <td>1.921065e+08</td>\n",
       "    </tr>\n",
       "  </tbody>\n",
       "</table>\n",
       "</div>"
      ],
      "text/plain": [
       "       0   1            2             3\n",
       "0   2016   9      3026.88  3.026880e+03\n",
       "1   2016  10    709085.76  7.121126e+05\n",
       "2   2016  12       235.44  7.123481e+05\n",
       "3   2017   1   1661856.48  2.374205e+06\n",
       "4   2017   2   3502896.11  5.877101e+06\n",
       "5   2017   3   5398363.19  1.127546e+07\n",
       "6   2017   4   5013456.35  1.628892e+07\n",
       "7   2017   5   7115025.84  2.340395e+07\n",
       "8   2017   6   6135316.56  2.953926e+07\n",
       "9   2017   7   7108595.03  3.664786e+07\n",
       "10  2017   8   8092755.84  4.474061e+07\n",
       "11  2017   9   8733149.40  5.347376e+07\n",
       "12  2017  10   9356134.56  6.282990e+07\n",
       "13  2017  11  14338593.60  7.716849e+07\n",
       "14  2017  12  10540817.76  8.770931e+07\n",
       "15  2018   1  13380050.15  1.010894e+08\n",
       "16  2018   2  11909560.08  1.129989e+08\n",
       "17  2018   3  13915825.44  1.269147e+08\n",
       "18  2018   4  13929425.77  1.408442e+08\n",
       "19  2018   5  13847785.81  1.546920e+08\n",
       "20  2018   6  12286566.01  1.669785e+08\n",
       "21  2018   7  12798488.99  1.797770e+08\n",
       "22  2018   8  12269103.86  1.920461e+08\n",
       "23  2018   9     53274.48  1.920994e+08\n",
       "24  2018  10      7076.04  1.921065e+08"
      ]
     },
     "execution_count": 24,
     "metadata": {},
     "output_type": "execute_result"
    }
   ],
   "source": [
    "query = \"\"\"select years, months , payment, sum(payment)\n",
    "over(order by years, months) cumulative_sales from \n",
    "(select year(orders.order_purchase_timestamp) as years,\n",
    "month(orders.order_purchase_timestamp) as months,\n",
    "round(sum(payments.payment_value),2) as payment from orders join payments\n",
    "on orders.order_id = payments.order_id\n",
    "group by years, months order by years, months) as a\n",
    "\"\"\"\n",
    "cur.execute(query)\n",
    "data = cur.fetchall()\n",
    "df = pd.DataFrame(data)\n",
    "df"
   ]
  },
  {
   "cell_type": "markdown",
   "id": "93235d70-5624-451d-9a94-38f99b8d11a0",
   "metadata": {},
   "source": [
    "# Calculate the year-over-year growth rate of total sales."
   ]
  },
  {
   "cell_type": "code",
   "execution_count": 26,
   "id": "8b97fc08-1d49-454a-8389-e769648ee138",
   "metadata": {},
   "outputs": [
    {
     "data": {
      "text/html": [
       "<div>\n",
       "<style scoped>\n",
       "    .dataframe tbody tr th:only-of-type {\n",
       "        vertical-align: middle;\n",
       "    }\n",
       "\n",
       "    .dataframe tbody tr th {\n",
       "        vertical-align: top;\n",
       "    }\n",
       "\n",
       "    .dataframe thead th {\n",
       "        text-align: right;\n",
       "    }\n",
       "</style>\n",
       "<table border=\"1\" class=\"dataframe\">\n",
       "  <thead>\n",
       "    <tr style=\"text-align: right;\">\n",
       "      <th></th>\n",
       "      <th>years</th>\n",
       "      <th>yoy % growth</th>\n",
       "    </tr>\n",
       "  </thead>\n",
       "  <tbody>\n",
       "    <tr>\n",
       "      <th>0</th>\n",
       "      <td>2016</td>\n",
       "      <td>NaN</td>\n",
       "    </tr>\n",
       "    <tr>\n",
       "      <th>1</th>\n",
       "      <td>2017</td>\n",
       "      <td>12112.703759</td>\n",
       "    </tr>\n",
       "    <tr>\n",
       "      <th>2</th>\n",
       "      <td>2018</td>\n",
       "      <td>20.000924</td>\n",
       "    </tr>\n",
       "  </tbody>\n",
       "</table>\n",
       "</div>"
      ],
      "text/plain": [
       "   years  yoy % growth\n",
       "0   2016           NaN\n",
       "1   2017  12112.703759\n",
       "2   2018     20.000924"
      ]
     },
     "execution_count": 26,
     "metadata": {},
     "output_type": "execute_result"
    }
   ],
   "source": [
    "query = \"\"\"with a as(select year(orders.order_purchase_timestamp) as years,\n",
    "round(sum(payments.payment_value),2) as payment from orders join payments\n",
    "on orders.order_id = payments.order_id\n",
    "group by years order by years)\n",
    "\n",
    "select years, ((payment - lag(payment, 1) over(order by years))/\n",
    "lag(payment, 1) over(order by years)) * 100 from a\"\"\"\n",
    "\n",
    "cur.execute(query)\n",
    "data = cur.fetchall()\n",
    "df = pd.DataFrame(data, columns = [\"years\", \"yoy % growth\"])\n",
    "df"
   ]
  },
  {
   "cell_type": "markdown",
   "id": "20adeb80-79ef-4c06-8567-5438e82e2dee",
   "metadata": {},
   "source": [
    "# Calculate the retention rate of customers, defined as the percentage of customers who make another purchase within 6 months of their first purchase."
   ]
  },
  {
   "cell_type": "code",
   "execution_count": 27,
   "id": "4d2f5f85-d949-4be4-9872-f047a27ca18d",
   "metadata": {},
   "outputs": [
    {
     "data": {
      "text/plain": [
       "[(None,)]"
      ]
     },
     "execution_count": 27,
     "metadata": {},
     "output_type": "execute_result"
    }
   ],
   "source": [
    "query = \"\"\"with a as (select customers.customer_id,\n",
    "min(orders.order_purchase_timestamp) first_order\n",
    "from customers join orders\n",
    "on customers.customer_id = orders.customer_id\n",
    "group by customers.customer_id),\n",
    "\n",
    "b as (select a.customer_id, count(distinct orders.order_purchase_timestamp) next_order\n",
    "from a join orders\n",
    "on orders.customer_id = a.customer_id\n",
    "and orders.order_purchase_timestamp > first_order\n",
    "and orders.order_purchase_timestamp < \n",
    "date_add(first_order, interval 6 month)\n",
    "group by a.customer_id) \n",
    "\n",
    "select 100 * (count( distinct a.customer_id)/ count(distinct b.customer_id)) \n",
    "from a left join b \n",
    "on a.customer_id = b.customer_id ;\"\"\"\n",
    "\n",
    "cur.execute(query)\n",
    "data = cur.fetchall()\n",
    "\n",
    "data\n"
   ]
  },
  {
   "cell_type": "markdown",
   "id": "eec7c95b-1234-4517-946f-c727f5470a0a",
   "metadata": {},
   "source": [
    "# Identify the top 3 customers who spent the most money in each year.\n"
   ]
  },
  {
   "cell_type": "code",
   "execution_count": 28,
   "id": "353e62bd-de36-4b0d-8ae9-29f79ace473e",
   "metadata": {},
   "outputs": [
    {
     "data": {
      "image/png": "[encoded data removed]",
      "text/plain": [
       "<Figure size 640x480 with 1 Axes>"
      ]
     },
     "metadata": {},
     "output_type": "display_data"
    }
   ],
   "source": [
    "query = \"\"\"select years, customer_id, payment, d_rank\n",
    "from\n",
    "(select year(orders.order_purchase_timestamp) years,\n",
    "orders.customer_id,\n",
    "sum(payments.payment_value) payment,\n",
    "dense_rank() over(partition by year(orders.order_purchase_timestamp)\n",
    "order by sum(payments.payment_value) desc) d_rank\n",
    "from orders join payments \n",
    "on payments.order_id = orders.order_id\n",
    "group by year(orders.order_purchase_timestamp),\n",
    "orders.customer_id) as a\n",
    "where d_rank <= 3 ;\"\"\"\n",
    "\n",
    "cur.execute(query)\n",
    "data = cur.fetchall()\n",
    "df = pd.DataFrame(data, columns = [\"years\",\"id\",\"payment\",\"rank\"])\n",
    "sns.barplot(x = \"id\", y = \"payment\", data = df, hue = \"years\")\n",
    "plt.xticks(rotation = 90)\n",
    "plt.show()"
   ]
  },
  {
   "cell_type": "code",
   "execution_count": null,
   "id": "feb4465f-2eb8-423b-bfdc-2292009b7345",
   "metadata": {},
   "outputs": [],
   "source": []
  }
 ],
 "metadata": {
  "kernelspec": {
   "display_name": "Python 3 (ipykernel)",
   "language": "python",
   "name": "python3"
  },
  "language_info": {
   "codemirror_mode": {
    "name": "ipython",
    "version": 3
   },
   "file_extension": ".py",
   "mimetype": "text/x-python",
   "name": "python",
   "nbconvert_exporter": "python",
   "pygments_lexer": "ipython3",
   "version": "3.13.0"
  }
 },
 "nbformat": 4,
 "nbformat_minor": 5
}
